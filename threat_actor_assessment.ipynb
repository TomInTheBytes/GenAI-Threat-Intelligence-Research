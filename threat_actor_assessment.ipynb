{
 "cells": [
  {
   "cell_type": "markdown",
   "id": "bce10c01-25c6-49ed-9874-d049a24f11e6",
   "metadata": {},
   "source": [
    "# Threat Actor Assessment\n",
    "This notebook leverages the threat actor report summaries to assess their threat using the threat box model. Prioritizing threat actors is important to put your resources to best use. However, threat actor assessment can be very subjective. By assessing threat actors using a model, we aim to generate consistent results that limit the bias of the analyst. \n",
    "\n",
    "This notebook provides example usage of the prompt and some other variants to generate more accurate results.\n",
    "\n",
    "References:\n",
    "- https://www.sans.org/white-papers/39585/"
   ]
  },
  {
   "cell_type": "markdown",
   "id": "0d6d015c-3adc-45d8-9878-7bf908bcae07",
   "metadata": {},
   "source": [
    "# Improvements ideas\n",
    "- [x] Optimize prompt using LLM\n",
    "- [ ] Look for methods to better assess intent, since the model tends to select '3 - sector association' too frequently, while the victim sector does match exactly.\n",
    "- [ ] Look for methods to better assess capability, since the context about sources and amount of evidence is missing the threat actor report summaries. "
   ]
  },
  {
   "cell_type": "markdown",
   "id": "43b13f0d-736d-49bf-bbb3-39a26aed55ce",
   "metadata": {},
   "source": [
    "# Import modules"
   ]
  },
  {
   "cell_type": "code",
   "execution_count": 51,
   "id": "031199c0-0eae-4ac0-a59d-8e299210955c",
   "metadata": {},
   "outputs": [],
   "source": [
    "from langchain_openai import ChatOpenAI\n",
    "from langchain.document_loaders import UnstructuredMarkdownLoader\n",
    "from dotenv import load_dotenv\n",
    "from langchain.prompts import PromptTemplate\n",
    "import openai\n",
    "import os\n",
    "import glob"
   ]
  },
  {
   "cell_type": "markdown",
   "id": "d0e3d8bf-f26d-4807-bdac-f4429b9ac303",
   "metadata": {},
   "source": [
    "# Define initial variables and OpenAI API key"
   ]
  },
  {
   "cell_type": "code",
   "execution_count": 44,
   "id": "4614ed31-e3c2-47b3-b42d-6f243e083001",
   "metadata": {},
   "outputs": [],
   "source": [
    "current_directory = os.path.dirname(\"__file__\")\n",
    "knowledge_directory = os.path.join(current_directory, \"knowledge\")\n",
    "documents_directory = os.path.join(knowledge_directory, \"documents\")\n",
    "summaries_directory = os.path.join(documents_directory, \"summaries\")\n",
    "\n",
    "\n",
    "load_dotenv()\n",
    "# Get your key: https://platform.openai.com/account/api-keys\n",
    "openai.api_key = os.getenv(\"OPENAI_API_KEY\")"
   ]
  },
  {
   "cell_type": "markdown",
   "id": "6dfd8419-455f-426b-956f-e5a202b5ef98",
   "metadata": {},
   "source": [
    "# Setup prompt\n",
    "See end of notebook for prompt experimentation"
   ]
  },
  {
   "cell_type": "code",
   "execution_count": 61,
   "id": "92e33e29-e6de-44d4-9e45-7450b5437056",
   "metadata": {},
   "outputs": [],
   "source": [
    "prompt = PromptTemplate.from_template(\"\"\"\n",
    "# Cyber Threat Evaluation Task\n",
    "\n",
    "## Objective\n",
    "\n",
    "Your task is to assess a threat actor's potential to target a specific victim using the provided cyber threat intelligence reports. Employ the Threat Box Model for a structured analysis, focusing on the actor's capability and intent. It's imperative to base your evaluation strictly on the information within the reports, prioritizing accuracy and avoiding unsupported assumptions. Clarity, transparency, and a methodical approach are key. When in doubt, opt for a conservative estimate over an inaccurately high threat level.\n",
    "\n",
    "## Victim Profile\n",
    "\n",
    "- **Company:** Undefined\n",
    "- **Industry:** Manufacturing\n",
    "- **Location:** Europe\n",
    "\n",
    "## Evaluation Criteria\n",
    "\n",
    "### A. Intent and Willingness\n",
    "\n",
    "Evaluate the threat actor's intent and willingness to target the specified victim, using the following scale:\n",
    "\n",
    "- **5:** Target-Specific Data - Intent is based on unique objectives achievable only within the victim's network.\n",
    "- **4:** Sector + Regional Association - Intent due to the victim's industry and regional context.\n",
    "- **3:** Sector Association - Intent due to the victim's industry affiliation.\n",
    "- **2:** Regional Association - Intent based on the victim's geographical operations.\n",
    "- **1:** Target of Opportunity - Non-specific intent; the victim is an opportunistic target.\n",
    "\n",
    "#### Willingness Modifier\n",
    "\n",
    "Adjust the intent score based on potential constraints affecting the actor's willingness:\n",
    "\n",
    "- **-0:** No impact - Strained diplomatic relations or perceived significant economic disruption by the threat actor from the victim's operations.\n",
    "- **-1:** Moderate impact - Moderate diplomatic and economic interactions between the threat actor and the EU.\n",
    "- **-2:** Strong impact - Strong diplomatic, economic, and security ties with the EU.\n",
    "\n",
    "### B. Capabilities and Novelty\n",
    "\n",
    "Assess the threat actor's capabilities and the novelty of their methods:\n",
    "\n",
    "- **5:** Significant Capability - Strong evidence from multiple sources of past similar activities.\n",
    "- **4:** Credible Capability - Reliable evidence of the capability, moderately confirmed.\n",
    "- **3:** Limited Capability - Some evidence, though from limited sources.\n",
    "- **2:** Possible Capability - Very limited evidence; attack feasibility confirmed.\n",
    "- **1:** Not Capable - No evidence of capability; feasibility unconfirmed.\n",
    "\n",
    "#### Novelty Modifier\n",
    "\n",
    "Adjust the capability score based on the sophistication of the actor's methods:\n",
    "\n",
    "- **-0:** Custom toolset for each campaign, showing advanced skills.\n",
    "- **-1:** Limited/high-cost toolset used across campaigns.\n",
    "- **-2:** Widely available toolset.\n",
    "\n",
    "## Task Instructions\n",
    "\n",
    "1. **Review Reports:** Analyze the provided cyber threat reports within the context of the Threat Box Model.\n",
    "2. **Evaluate Intent and Capability:** Determine the threat actor's intent and capability scores based on the criteria above.\n",
    "3. **Justify Your Ratings:** Clearly explain the rationale behind each score, ensuring your logic is transparent.\n",
    "4. **Compile a Matrix:** Summarize your findings in a matrix, listing scores for each dimension, including modifiers.\n",
    "\n",
    "## Final Deliverable\n",
    "\n",
    "Submit your analysis, including the justification for each score and the final matrix. Your evaluation should reflect a thorough understanding of the threat actor's potential actions against the specified victim, grounded in the provided intelligence reports.\n",
    "\n",
    "## Threat Actor Input\n",
    "\n",
    "{context}\n",
    "\n",
    "\"\"\"\n",
    ")"
   ]
  },
  {
   "cell_type": "markdown",
   "id": "97057bef-432b-429b-b58d-eacb9b45e451",
   "metadata": {},
   "source": [
    "# Setup LLM"
   ]
  },
  {
   "cell_type": "code",
   "execution_count": 63,
   "id": "2ac72c2e-7db4-4d4c-ab94-3e60cd85d280",
   "metadata": {},
   "outputs": [],
   "source": [
    "llm = ChatOpenAI(model_name=\"gpt-3.5-turbo\", temperature=0, openai_api_key=openai.api_key)\n",
    "chain = prompt | llm"
   ]
  },
  {
   "cell_type": "markdown",
   "id": "242fc5c5-9197-4183-91ff-2f1df983822e",
   "metadata": {},
   "source": [
    "# Invoke request\n",
    "Used 'Achilles' as example threat actor"
   ]
  },
  {
   "cell_type": "code",
   "execution_count": 64,
   "id": "a48fb733-4325-4d41-8946-ef6abe86ed69",
   "metadata": {
    "scrolled": true
   },
   "outputs": [
    {
     "data": {
      "text/plain": [
       "AIMessage(content=\"## Threat Actor Evaluation\\n\\n### A. Intent and Willingness\\n\\nBased on the provided reports, the threat actor known as Achilles demonstrates a clear intent to target high-value corporate internal networks, including those of multinational companies and government organizations. Their focus on private companies and government entities in the British Commonwealth, as well as their claimed access to networks like UNICEF, indicates a specific intent to target organizations within these sectors. Therefore, the intent score is:\\n\\nIntent Score: 4 (Sector + Regional Association)\\n\\nGiven the threat actor's ties to Iranian hackers and the potential connection to Iran based on activity following Iranian time zones, there may be some impact on their willingness to target a victim in Europe due to diplomatic and economic interactions. Therefore, the willingness modifier is:\\n\\nWillingness Modifier: -1 (Moderate impact)\\n\\nAdjusted Intent Score: 3 (Sector Association)\\n\\n### B. Capabilities and Novelty\\n\\nAchilles has demonstrated a significant capability to access high-value corporate networks, as evidenced by their claimed breaches of organizations like UNICEF, Symantec, and Comodo. The use of novel techniques such as living-off-the-land strategies and reliance on legitimate tools for intrusion showcases a credible capability to carry out sophisticated attacks. Therefore, the capability score is:\\n\\nCapability Score: 4 (Credible Capability)\\n\\nThe novelty of Achilles' methods, including the avoidance of malware and the focus on gaining access through RDP and VPNs, suggests a custom toolset and advanced skills. Therefore, the novelty modifier is:\\n\\nNovelty Modifier: -0 (Custom toolset for each campaign)\\n\\nAdjusted Capability Score: 4 (Credible Capability)\\n\\n## Threat Actor Evaluation Matrix\\n\\n| Dimension              | Score | Modifier | Adjusted Score |\\n|------------------------|-------|----------|----------------|\\n| Intent                 | 4     | -1       | 3              |\\n| Capability             | 4     | 0        | 4              |\\n\\n## Justification\\n\\nThe evaluation of the threat actor Achilles is based on their demonstrated intent to target specific sectors and regions, as well as their credible capability to access high-value corporate networks using novel techniques. The willingness modifier accounts for potential constraints on their targeting of a victim in Europe. Overall, Achilles poses a significant threat to organizations within the manufacturing industry in Europe, including the specified victim.\")"
      ]
     },
     "execution_count": 64,
     "metadata": {},
     "output_type": "execute_result"
    }
   ],
   "source": [
    "example_report = os.path.join(summaries_directory, \"Achilles_summary.md\")\n",
    "loader = UnstructuredMarkdownLoader(example_report)\n",
    "report = loader.load()\n",
    "chain.invoke(({\"context\": report[0].page_content}))\n"
   ]
  },
  {
   "cell_type": "markdown",
   "id": "e3d0c4b5-18b6-49e3-a241-e1f919ad6532",
   "metadata": {},
   "source": [
    "# Prompt experimentation\n",
    "We are not yet satisfied with the quality of the output. It is lacking accuracy and consistency. Below are are experimenting with some other prompt versions"
   ]
  },
  {
   "cell_type": "markdown",
   "id": "6f00dd0a-ea59-481b-acc1-b029cfe579ef",
   "metadata": {},
   "source": [
    "# 1. Default prompt"
   ]
  },
  {
   "cell_type": "markdown",
   "id": "a5a0a0da-d78d-4209-a8f5-3c09e89e6d9b",
   "metadata": {},
   "source": [
    "# Cyber Threat Evaluation Task\n",
    "\n",
    "## Objective\n",
    "\n",
    "Your task is to assess a threat actor's potential to target a specific victim using the provided cyber threat intelligence reports. Employ the Threat Box Model for a structured analysis, focusing on the actor's capability and intent. It's imperative to base your evaluation strictly on the information within the reports, prioritizing accuracy and avoiding unsupported assumptions. Clarity, transparency, and a methodical approach are key. When in doubt, opt for a conservative estimate over an inaccurately high threat level.\n",
    "\n",
    "## Victim Profile\n",
    "\n",
    "- **Industry:** High-Tech Manufacturing\n",
    "- **Location:** Europe\n",
    "\n",
    "## Evaluation Criteria\n",
    "\n",
    "### A. Intent and Willingness\n",
    "\n",
    "Evaluate the threat actor's intent and willingness to target the specified victim, using the following scale:\n",
    "\n",
    "- **5:** Target-Specific Data - Intent is based on unique objectives achievable only within the victim's network.\n",
    "- **4:** Sector + Regional Association - Intent due to the victim's industry and regional context.\n",
    "- **3:** Sector Association - Intent due to the victim's industry affiliation.\n",
    "- **2:** Regional Association - Intent based on the victim's geographical operations.\n",
    "- **1:** Target of Opportunity - Non-specific intent; the victim is an opportunistic target.\n",
    "\n",
    "#### Willingness Modifier\n",
    "\n",
    "Adjust the intent score based on potential constraints affecting the actor's willingness:\n",
    "\n",
    "- **-0:** No impact - Strained diplomatic relations or perceived significant economic disruption by the threat actor from the victim's operations.\n",
    "- **-1:** Moderate impact - Moderate diplomatic and economic interactions between the threat actor and the EU.\n",
    "- **-2:** Strong impact - Strong diplomatic, economic, and security ties with the EU.\n",
    "\n",
    "### B. Capabilities and Novelty\n",
    "\n",
    "Assess the threat actor's capabilities and the novelty of their methods:\n",
    "\n",
    "- **5:** Significant Capability - Strong evidence from multiple sources of past similar activities.\n",
    "- **4:** Credible Capability - Reliable evidence of the capability, moderately confirmed.\n",
    "- **3:** Limited Capability - Some evidence, though from limited sources.\n",
    "- **2:** Possible Capability - Very limited evidence; attack feasibility confirmed.\n",
    "- **1:** Not Capable - No evidence of capability; feasibility unconfirmed.\n",
    "\n",
    "#### Novelty Modifier\n",
    "\n",
    "Adjust the capability score based on the sophistication of the actor's methods:\n",
    "\n",
    "- **-0:** Custom toolset for each campaign, showing advanced skills.\n",
    "- **-1:** Limited/high-cost toolset used across campaigns.\n",
    "- **-2:** Widely available toolset.\n",
    "\n",
    "## Task Instructions\n",
    "\n",
    "1. **Review Reports:** Analyze the provided cyber threat reports within the context of the Threat Box Model.\n",
    "2. **Evaluate Intent and Capability:** Determine the threat actor's intent and capability scores based on the criteria above.\n",
    "3. **Justify Your Ratings:** Clearly explain the rationale behind each score, ensuring your logic is transparent.\n",
    "4. **Compile a Matrix:** Summarize your findings in a matrix, listing scores for each dimension, including modifiers.\n",
    "\n",
    "## Final Deliverable\n",
    "\n",
    "Submit your analysis, including the justification for each score and the final matrix. Your evaluation should reflect a thorough understanding of the threat actor's potential actions against the specified victim, grounded in the provided intelligence reports.\n",
    "```"
   ]
  },
  {
   "cell_type": "markdown",
   "id": "4cac46de-82b5-45ec-ba53-45a517ac7ced",
   "metadata": {},
   "source": [
    "-----------------------------------------------\n",
    "# 2. Prompt improved through LLM\n",
    "Let LLM redefine the prompt."
   ]
  },
  {
   "cell_type": "markdown",
   "id": "9982bf9b-f40d-4363-aa09-0fd948344e9c",
   "metadata": {},
   "source": [
    "# Refined Cyber Threat Evaluation Task \n",
    "\n",
    "## Objective\n",
    "\n",
    "Your task is to conduct a precise and consistent evaluation of a threat actor's potential to target a specific victim, based on cyber threat intelligence reports. Utilize the model described below for structured analysis, focusing exclusively on the actor's capability and intent as evidenced in the reports. Ensure your evaluation is grounded in factual information, avoiding extrapolation or assumptions. Aim for clarity, consistency, and a methodical approach in your analysis. When evidence is insufficient, default to a lower, more conservative rating.\n",
    "\n",
    "## Victim Profile\n",
    "\n",
    "- **Industry:** High-Tech Manufacturing\n",
    "- **Region:** Western-Europe\n",
    "- **Crown jewels:** Intellectual property\n",
    "\n",
    "## Evaluation Criteria\n",
    "\n",
    "### A. Intent and Willingness\n",
    "\n",
    "Assess the threat actor's specific intent and willingness to target the victim. Only assign a rating if it is supported by direct evidence from the reports. Each rating must be substantiated by the criteria of the preceding levels:\n",
    "\n",
    "- **5:** Target-Specific Data - Clear evidence of intent targeting the victim's unique assets or operations. Must directly relate to the victim's crown jewels.\n",
    "- **4:** Ideology Association - Intent linked to ideological motivations directly associated with the victim.\n",
    "- **3:** Sector Association - Intent due to direct industry match. Avoid associating unrelated sectors even if they share broad characteristics. The exact victim sector must be mentioned in the report evidence for it to be a match. Threat actors choose their sectors precisely, and loose connections don't make sense here. \n",
    "- **2:** Regional Association - Intent based on the victim's geographical presence.\n",
    "- **1:** Target of Opportunity - General intent; the victim is considered an opportunistic target without specific alignment to the threat actor's known preferences.\n",
    "\n",
    "#### Willingness Modifier\n",
    "\n",
    "Modify the intent score based on geopolitical or economic factors that could influence the actor's willingness:\n",
    "\n",
    "- **-0:** No impact - Applies to actors from countries with a history of cyber aggression against Western targets.\n",
    "- **-1:** Moderate impact - For actors from countries with moderate interactions with the EU. Default score for aggressive nations is 0.\n",
    "- **-2:** Strong impact - Applies to actors from countries with strong ties to the EU, potentially deterring aggressive actions.\n",
    "\n",
    "### B. Capabilities and Novelty\n",
    "\n",
    "Evaluate the threat actor's capabilities and the innovation of their methods, considering the recency of their activities:\n",
    "\n",
    "- **5:** Significant Capability - Robust evidence from multiple sources of similar past activities.\n",
    "- **4:** Credible Capability - Reliable evidence, moderately confirmed.\n",
    "- **3:** Limited Capability - Evidence exists, though it's limited.\n",
    "- **2:** Possible Capability - Minimal evidence; feasibility is speculative.\n",
    "- **1:** Not Capable - No evidence of capability.\n",
    "\n",
    "#### Novelty Modifier\n",
    "\n",
    "Adjust based on the sophistication of the actor's methods:\n",
    "\n",
    "- **-0:** Use of custom tools per campaign, indicating high skill.\n",
    "- **-1:** Use of limited or costly tools across campaigns.\n",
    "- **-2:** Reliance on widely available tools.\n",
    "\n",
    "Absent specific evidence of tool sophistication, default to -2.\n",
    "\n",
    "### Attack Types\n",
    "We split threat actor attacks into four types. We want to provide a score for above dimensions for all four of them. We therefore want to see 4 matrices being outputted. If an attack type is not mentioned in the provided reports, rate it minimum for capability and intent since no evidence is provided. Do not make assumptions based on information provided about the other attack types for the threat actor. The attack types are:\n",
    "-**Espionage:** Any attack of a threat actor designed to impact the confidentiality of data and/or information system (e.g., trade secrets, government data, etc.)\n",
    "-**Destructive:** Any attack of a threat actor designed to permanently impact the integrity of data and/or information system. \n",
    "-**Disruptive:** Any attack intended to temporarily degrade the availability of data or information systems (e.g., DDoS, web defacements, etc)\n",
    "-**Cyber-Crime:** Any attack intended for near-term financial profit (e.g., ransomware, point-of-sale (PoS) malware, etc). Intellectual Property (IP) theft that is not immediately sold is considered espionage rather than cyber-crime.  \n",
    "\n",
    "## Task Instructions\n",
    "\n",
    "1. **Review Reports:** Analyze the cyber threat reports, applying the model described above. Synthesize an overall score for the threat actor, rather than scoring per report.\n",
    "2. **Evaluate Intent and Capability:** Determine the threat actor's intent and capability scores based on the evidence. Aggregate your findings from all reports. Be precise and exact; we'd rather have lower score output then to make assumptions or ambiguous links. Do this for all four attack types.\n",
    "3. **Compile a Matrix:** Present your findings in a matrix, detailing scores for each dimension, including modifiers. Make this easy to parse by Python. \n",
    "\n",
    "## Final Deliverable\n",
    "\n",
    "Provide a detailed analysis with justifications for each score and the final matrix. Your evaluation should accurately reflect the threat actor's potential actions against the specified victim, strictly based on the intelligence reports.\n",
    "\n",
    "# Threat Actor Context Input\n"
   ]
  }
 ],
 "metadata": {
  "kernelspec": {
   "display_name": "Python 3 (ipykernel)",
   "language": "python",
   "name": "python3"
  },
  "language_info": {
   "codemirror_mode": {
    "name": "ipython",
    "version": 3
   },
   "file_extension": ".py",
   "mimetype": "text/x-python",
   "name": "python",
   "nbconvert_exporter": "python",
   "pygments_lexer": "ipython3",
   "version": "3.12.2"
  }
 },
 "nbformat": 4,
 "nbformat_minor": 5
}
